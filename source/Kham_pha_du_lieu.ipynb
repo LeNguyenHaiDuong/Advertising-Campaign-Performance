{
 "cells": [
  {
   "cell_type": "markdown",
   "id": "16fb4737",
   "metadata": {},
   "source": [
    "<h1 style=\"text-align: center;\">\n",
    "    The Analyst Challenge<br><br>\n",
    "    Advertising Campaign Performance Dataset<br>\n",
    "</h1>  \n",
    "\n",
    "\n",
    "## 1. Giới thiệu về challenge\n",
    "\n",
    "### Bối Cảnh\n",
    "Việc phân tích hiệu quả quảng cáo (***ad performance***) và tối ưu ngân sách marketing là yếu tố then chốt giúp doanh nghiệp tăng trưởng bền vững.  \n",
    "Dựa trên bộ dữ liệu thực tế từ nhiều chiến dịch quảng cáo đa kênh, đa mục tiêu, đa phân khúc khách hàng và nhiều địa phương/ngôn ngữ khác nhau, bạn sẽ khám phá các yếu tố tạo nên ROI cao, nhắm đúng đối tượng và cải thiện conversion rate.  \n",
    "\n",
    "Trong thử thách này, bạn sẽ sử dụng Power BI để phân tích dữ liệu campaign từ nhiều lĩnh vực, nhiều vùng địa lý, và tìm ra chiến lược/cách tiếp cận hiệu quả nhất.\n",
    "\n",
    "### Yêu Cầu\n",
    "Bạn cần sử dụng `Power BI` để:\n",
    "\n",
    "- Phân tích hiệu quả các campaign trên nhiều channel/platform khác nhau (ví dụ: Twitter, Instagram…)\n",
    "- So sánh hiệu quả theo target audience, location, language, campaign goal và customer segment.\n",
    "- Xác định các yếu tố mang lại ROI, conversion rate cao, cũng như hiệu quả chi phí (cost efficiency).\n",
    "- Trực quan hóa các chỉ số: impressions, clicks, spend, conversion rate, ROI.\n",
    "- Xây dựng dashboard tương tác dành cho các decision-maker trong doanh nghiệp để theo dõi hiệu quả campaign.\n",
    "- Đưa ra đề xuất cụ thể, dựa trên dữ liệu để tối ưu các chiến dịch quảng cáo tiếp theo.\n",
    "\n",
    "### Mô Tả Dữ Liệu\n",
    "\n",
    "#### Tổng Quan\n",
    "- Bộ dữ liệu cung cấp thông tin chi tiết về hoạt động của các chiến dịch quảng cáo đa kênh, đa mục tiêu. Nó được thiết kế để giúp doanh nghiệp phân tích hiệu quả ngân sách, hiệu suất chuyển đổi, ROI và hành vi khách hàng theo từng khu vực và phân khúc thị trường.\n",
    "- Bộ dữ liệu này lý tưởng để khám phá chiến lược marketing hiệu quả nhất, xác định yếu tố nào mang lại kết quả tốt, từ đó tối ưu ngân sách và nâng cao tỷ lệ chuyển đổi.\n",
    "\n",
    "#### Cấu Trúc Dữ Liệu\n",
    "Bộ dữ liệu bao gồm nhiều cột, mỗi cột đại diện cho một khía cạnh quan trọng của hiệu quả chiến dịch quảng cáo:\n",
    "\n",
    "| **Cột**             | **Mô tả**                                         |\n",
    "|:--------------------|---------------------------------------------------|\n",
    "| Campaign_ID        | Mã chiến dịch                                     |\n",
    "| Target_Audience    | Đối tượng mục tiêu (ví dụ: Women 25-34, Men 25-34...) |\n",
    "| Campaign_Goal      | Mục tiêu campaign (Brand Awareness, Increase Sales, Market Expansion, ...) |\n",
    "| Duration           | Thời lượng chiến dịch (30 Days, 60 Days, ...)     |\n",
    "| Channel_Used       | Kênh/platform chạy quảng cáo (Twitter, Instagram, ...) |\n",
    "| Conversion_Rate    | Tỷ lệ chuyển đổi (%)                              |\n",
    "| Spend              | Ngân sách chi tiêu (USD)                          |\n",
    "| ROI                | Return on Investment                              |\n",
    "| Location           | Địa điểm (city/region)                            |\n",
    "| Language           | Ngôn ngữ campaign                                 |\n",
    "| Clicks             | Số lượt click                                     |\n",
    "| Impressions        | Số lượt hiển thị                                  |\n",
    "| Customer_Segment   | Nhóm khách hàng (ví dụ: Fashion, Food, ...)       |\n",
    "| Date               | Ngày chạy campaign                                |\n",
    "| Company            | Tên công ty                                       |\n"
   ]
  },
  {
   "cell_type": "markdown",
   "id": "425e9450",
   "metadata": {},
   "source": [
    "## 2. Tiền xử lý dữ liệu"
   ]
  },
  {
   "cell_type": "markdown",
   "id": "55d785e4",
   "metadata": {},
   "source": [
    "### Import các thư viện cần thiết"
   ]
  },
  {
   "cell_type": "code",
   "execution_count": 1,
   "id": "6cf14cb7",
   "metadata": {},
   "outputs": [],
   "source": [
    "import pandas as pd\n",
    "import numpy as np\n",
    "import matplotlib.pyplot as plt\n",
    "import re\n",
    "import seaborn as sns\n",
    "pd.set_option('display.max_columns', None)  \n",
    "pd.set_option('display.max_colwidth', None)\n",
    "import warnings\n",
    "import matplotlib.ticker as mtick\n",
    "warnings.filterwarnings('ignore')"
   ]
  },
  {
   "cell_type": "code",
   "execution_count": 2,
   "id": "14c0c436",
   "metadata": {},
   "outputs": [
    {
     "data": {
      "text/html": [
       "<div>\n",
       "<style scoped>\n",
       "    .dataframe tbody tr th:only-of-type {\n",
       "        vertical-align: middle;\n",
       "    }\n",
       "\n",
       "    .dataframe tbody tr th {\n",
       "        vertical-align: top;\n",
       "    }\n",
       "\n",
       "    .dataframe thead th {\n",
       "        text-align: right;\n",
       "    }\n",
       "</style>\n",
       "<table border=\"1\" class=\"dataframe\">\n",
       "  <thead>\n",
       "    <tr style=\"text-align: right;\">\n",
       "      <th></th>\n",
       "      <th>Campaign_ID</th>\n",
       "      <th>Target_Audience</th>\n",
       "      <th>Campaign_Goal</th>\n",
       "      <th>Duration</th>\n",
       "      <th>Channel_Used</th>\n",
       "      <th>Conversion_Rate</th>\n",
       "      <th>Spend</th>\n",
       "      <th>ROI</th>\n",
       "      <th>Location</th>\n",
       "      <th>Language</th>\n",
       "      <th>Clicks</th>\n",
       "      <th>Impressions</th>\n",
       "      <th>Customer_Segment</th>\n",
       "      <th>Date</th>\n",
       "      <th>Company</th>\n",
       "    </tr>\n",
       "  </thead>\n",
       "  <tbody>\n",
       "    <tr>\n",
       "      <th>0</th>\n",
       "      <td>578191</td>\n",
       "      <td>Women 25-34</td>\n",
       "      <td>Brand Awareness</td>\n",
       "      <td>30 Days</td>\n",
       "      <td>Twitter</td>\n",
       "      <td>0,12</td>\n",
       "      <td>6924,23</td>\n",
       "      <td>6,96</td>\n",
       "      <td>New York</td>\n",
       "      <td>French</td>\n",
       "      <td>17993</td>\n",
       "      <td>54817</td>\n",
       "      <td>Fashion</td>\n",
       "      <td>2022-12-31 00:00:00</td>\n",
       "      <td>Chic Couture</td>\n",
       "    </tr>\n",
       "    <tr>\n",
       "      <th>1</th>\n",
       "      <td>737574</td>\n",
       "      <td>Men 25-34</td>\n",
       "      <td>Increase Sales</td>\n",
       "      <td>30 Days</td>\n",
       "      <td>Twitter</td>\n",
       "      <td>0,13</td>\n",
       "      <td>5244,02</td>\n",
       "      <td>2,11</td>\n",
       "      <td>Las Vegas</td>\n",
       "      <td>French</td>\n",
       "      <td>13441</td>\n",
       "      <td>41332</td>\n",
       "      <td>Fashion</td>\n",
       "      <td>2022-03-16 00:00:00</td>\n",
       "      <td>Mode Maven</td>\n",
       "    </tr>\n",
       "    <tr>\n",
       "      <th>2</th>\n",
       "      <td>199313</td>\n",
       "      <td>Women 25-34</td>\n",
       "      <td>Brand Awareness</td>\n",
       "      <td>30 Days</td>\n",
       "      <td>Twitter</td>\n",
       "      <td>0,14</td>\n",
       "      <td>4998,43</td>\n",
       "      <td>4,68</td>\n",
       "      <td>Miami</td>\n",
       "      <td>English</td>\n",
       "      <td>12767</td>\n",
       "      <td>39336</td>\n",
       "      <td>Food</td>\n",
       "      <td>2022-06-07 00:00:00</td>\n",
       "      <td>Epicurean Edge</td>\n",
       "    </tr>\n",
       "    <tr>\n",
       "      <th>3</th>\n",
       "      <td>163358</td>\n",
       "      <td>Women 25-34</td>\n",
       "      <td>Market Expansion</td>\n",
       "      <td>30 Days</td>\n",
       "      <td>Instagram</td>\n",
       "      <td>0,13</td>\n",
       "      <td>6687,44</td>\n",
       "      <td>5,58</td>\n",
       "      <td>Las Vegas</td>\n",
       "      <td>English</td>\n",
       "      <td>17343</td>\n",
       "      <td>52889</td>\n",
       "      <td>Food</td>\n",
       "      <td>2022-10-04 00:00:00</td>\n",
       "      <td>Bistro Bliss</td>\n",
       "    </tr>\n",
       "    <tr>\n",
       "      <th>4</th>\n",
       "      <td>149567</td>\n",
       "      <td>Women 18-24</td>\n",
       "      <td>Market Expansion</td>\n",
       "      <td>60 Days</td>\n",
       "      <td>Instagram</td>\n",
       "      <td>0,13</td>\n",
       "      <td>14346,04</td>\n",
       "      <td>6,42</td>\n",
       "      <td>Las Vegas</td>\n",
       "      <td>English</td>\n",
       "      <td>37355</td>\n",
       "      <td>112167</td>\n",
       "      <td>Fashion</td>\n",
       "      <td>2022-11-05 00:00:00</td>\n",
       "      <td>Trend Tailors</td>\n",
       "    </tr>\n",
       "  </tbody>\n",
       "</table>\n",
       "</div>"
      ],
      "text/plain": [
       "   Campaign_ID Target_Audience     Campaign_Goal Duration Channel_Used  \\\n",
       "0       578191     Women 25-34   Brand Awareness  30 Days      Twitter   \n",
       "1       737574       Men 25-34    Increase Sales  30 Days      Twitter   \n",
       "2       199313     Women 25-34   Brand Awareness  30 Days      Twitter   \n",
       "3       163358     Women 25-34  Market Expansion  30 Days    Instagram   \n",
       "4       149567     Women 18-24  Market Expansion  60 Days    Instagram   \n",
       "\n",
       "  Conversion_Rate     Spend   ROI   Location Language  Clicks  Impressions  \\\n",
       "0            0,12   6924,23  6,96   New York   French   17993        54817   \n",
       "1            0,13   5244,02  2,11  Las Vegas   French   13441        41332   \n",
       "2            0,14   4998,43  4,68      Miami  English   12767        39336   \n",
       "3            0,13   6687,44  5,58  Las Vegas  English   17343        52889   \n",
       "4            0,13  14346,04  6,42  Las Vegas  English   37355       112167   \n",
       "\n",
       "  Customer_Segment                 Date         Company  \n",
       "0          Fashion  2022-12-31 00:00:00    Chic Couture  \n",
       "1          Fashion  2022-03-16 00:00:00      Mode Maven  \n",
       "2             Food  2022-06-07 00:00:00  Epicurean Edge  \n",
       "3             Food  2022-10-04 00:00:00    Bistro Bliss  \n",
       "4          Fashion  2022-11-05 00:00:00   Trend Tailors  "
      ]
     },
     "execution_count": 2,
     "metadata": {},
     "output_type": "execute_result"
    }
   ],
   "source": [
    "filepath = \"../dataset/ads_campaign_dataset.csv\"\n",
    "data = pd.read_csv(filepath)\n",
    "data.head()"
   ]
  },
  {
   "cell_type": "markdown",
   "id": "9e37c076",
   "metadata": {},
   "source": [
    "### Dữ liệu có bao nhiêu cột? Bao nhiêu dòng?"
   ]
  },
  {
   "cell_type": "code",
   "execution_count": 3,
   "id": "983b511f",
   "metadata": {},
   "outputs": [
    {
     "name": "stdout",
     "output_type": "stream",
     "text": [
      "Dữ liệu có 8047 dòng và 15 cột\n"
     ]
    }
   ],
   "source": [
    "print(\"Dữ liệu có\", data.shape[0], \"dòng và\", data.shape[1], \"cột\")"
   ]
  },
  {
   "cell_type": "markdown",
   "id": "fbe324ea-cc9d-4aea-b3bd-0538300ef13d",
   "metadata": {},
   "source": [
    "### Dữ liệu có bị thiếu không? Nếu có thì in ra tên cột và số lượng thiếu tương ứng."
   ]
  },
  {
   "cell_type": "code",
   "execution_count": 4,
   "id": "d741d58c-1327-4192-9e34-d974f63c6ccf",
   "metadata": {},
   "outputs": [
    {
     "name": "stdout",
     "output_type": "stream",
     "text": [
      "Dữ liệu không bị thiếu.\n"
     ]
    }
   ],
   "source": [
    "null_counts = data.isnull().sum()\n",
    "\n",
    "if (null_counts == 0).all():\n",
    "    print(\"Dữ liệu không bị thiếu.\")\n",
    "else:\n",
    "    print(\"Dữ liệu bị thiếu ở các cột sau:\")\n",
    "    print(null_counts[null_counts > 0])"
   ]
  },
  {
   "cell_type": "markdown",
   "id": "4edd8bd5",
   "metadata": {},
   "source": [
    "### Từng cột đang có kiểu dữ liệu là gì? Có phù hợp hay chưa?"
   ]
  },
  {
   "cell_type": "code",
   "execution_count": 5,
   "id": "f09d5dac",
   "metadata": {},
   "outputs": [
    {
     "data": {
      "text/html": [
       "<div>\n",
       "<style scoped>\n",
       "    .dataframe tbody tr th:only-of-type {\n",
       "        vertical-align: middle;\n",
       "    }\n",
       "\n",
       "    .dataframe tbody tr th {\n",
       "        vertical-align: top;\n",
       "    }\n",
       "\n",
       "    .dataframe thead th {\n",
       "        text-align: right;\n",
       "    }\n",
       "</style>\n",
       "<table border=\"1\" class=\"dataframe\">\n",
       "  <thead>\n",
       "    <tr style=\"text-align: right;\">\n",
       "      <th></th>\n",
       "      <th>Data Type</th>\n",
       "    </tr>\n",
       "  </thead>\n",
       "  <tbody>\n",
       "    <tr>\n",
       "      <th>Campaign_ID</th>\n",
       "      <td>int64</td>\n",
       "    </tr>\n",
       "    <tr>\n",
       "      <th>Target_Audience</th>\n",
       "      <td>object</td>\n",
       "    </tr>\n",
       "    <tr>\n",
       "      <th>Campaign_Goal</th>\n",
       "      <td>object</td>\n",
       "    </tr>\n",
       "    <tr>\n",
       "      <th>Duration</th>\n",
       "      <td>object</td>\n",
       "    </tr>\n",
       "    <tr>\n",
       "      <th>Channel_Used</th>\n",
       "      <td>object</td>\n",
       "    </tr>\n",
       "    <tr>\n",
       "      <th>Conversion_Rate</th>\n",
       "      <td>object</td>\n",
       "    </tr>\n",
       "    <tr>\n",
       "      <th>Spend</th>\n",
       "      <td>object</td>\n",
       "    </tr>\n",
       "    <tr>\n",
       "      <th>ROI</th>\n",
       "      <td>object</td>\n",
       "    </tr>\n",
       "    <tr>\n",
       "      <th>Location</th>\n",
       "      <td>object</td>\n",
       "    </tr>\n",
       "    <tr>\n",
       "      <th>Language</th>\n",
       "      <td>object</td>\n",
       "    </tr>\n",
       "    <tr>\n",
       "      <th>Clicks</th>\n",
       "      <td>int64</td>\n",
       "    </tr>\n",
       "    <tr>\n",
       "      <th>Impressions</th>\n",
       "      <td>int64</td>\n",
       "    </tr>\n",
       "    <tr>\n",
       "      <th>Customer_Segment</th>\n",
       "      <td>object</td>\n",
       "    </tr>\n",
       "    <tr>\n",
       "      <th>Date</th>\n",
       "      <td>object</td>\n",
       "    </tr>\n",
       "    <tr>\n",
       "      <th>Company</th>\n",
       "      <td>object</td>\n",
       "    </tr>\n",
       "  </tbody>\n",
       "</table>\n",
       "</div>"
      ],
      "text/plain": [
       "                 Data Type\n",
       "Campaign_ID          int64\n",
       "Target_Audience     object\n",
       "Campaign_Goal       object\n",
       "Duration            object\n",
       "Channel_Used        object\n",
       "Conversion_Rate     object\n",
       "Spend               object\n",
       "ROI                 object\n",
       "Location            object\n",
       "Language            object\n",
       "Clicks               int64\n",
       "Impressions          int64\n",
       "Customer_Segment    object\n",
       "Date                object\n",
       "Company             object"
      ]
     },
     "execution_count": 5,
     "metadata": {},
     "output_type": "execute_result"
    }
   ],
   "source": [
    "# Tự động tối ưu kiểu dữ liệu\n",
    "# data = data.convert_dtypes()\n",
    "# Xuất kiểu dữ liệu sau khi tối ưu\n",
    "def df_types(data):\n",
    "    return pd.DataFrame({ \"Data Type\": data.dtypes.astype(str) })\n",
    "df_types(data)"
   ]
  },
  {
   "cell_type": "markdown",
   "id": "610ad6fb-4fce-43a1-aed1-148fd393838c",
   "metadata": {},
   "source": [
    "`Conversion_Rate`, `Spend` và `ROI` kỳ vọng có dạng float. Cột `Date` cần chuyển sang dạng DateTime"
   ]
  },
  {
   "cell_type": "code",
   "execution_count": 6,
   "id": "51f36baf-dc87-48d4-8a60-dce96481442e",
   "metadata": {},
   "outputs": [],
   "source": [
    "# Chuyển đổi 3 cột sang float\n",
    "cols_float = ['Conversion_Rate', 'Spend', 'ROI']\n",
    "for col in cols_float:\n",
    "    # Bước 1: thay dấu , thành dấu .\n",
    "    data[cols_float] = data[cols_float].apply(lambda x: x.astype(str)\n",
    "                                              .str.replace(',', '.', regex=False))\n",
    "    \n",
    "    # Bước 2: chuyển sang float\n",
    "    data[cols_float] = data[cols_float].astype(float)"
   ]
  },
  {
   "cell_type": "code",
   "execution_count": 7,
   "id": "29355795-115d-47ca-964b-ba931c40f1ae",
   "metadata": {},
   "outputs": [
    {
     "name": "stdout",
     "output_type": "stream",
     "text": [
      "✅ Cột Date chỉ chứa ngày tháng năm, phần giờ phút giây đều bằng 0.\n"
     ]
    }
   ],
   "source": [
    "# Chuyển đổi Date sang datetime\n",
    "data['Date'] = pd.to_datetime(data['Date'], errors='coerce')\n",
    "\n",
    "# Kiểm tra xem Date có phải chỉ chứa \"YYYY-MM-DD 00:00:00\" không\n",
    "date_format_check = (data['Date'].dt.hour.eq(0) &\n",
    "                     data['Date'].dt.minute.eq(0) &\n",
    "                     data['Date'].dt.second.eq(0))\n",
    "\n",
    "if date_format_check.all():\n",
    "    print(\"✅ Cột Date chỉ chứa ngày tháng năm, phần giờ phút giây đều bằng 0.\")\n",
    "else:\n",
    "    print(\"⚠️ Cột Date có chứa dữ liệu giờ phút giây khác 0.\")"
   ]
  },
  {
   "cell_type": "markdown",
   "id": "9ed572fc-4a45-49ea-8d00-24b2efc343d5",
   "metadata": {},
   "source": [
    "**Quan sát:**  \n",
    "Cột `Target_Audience` hiện đang chứa thông tin kết hợp giữa giới tính và nhóm tuổi, ví dụ: `\"Women 25-34\"`, `\"Men 18-24\"`. Điều này đồng nghĩa một cột đang biểu diễn hai đặc tính khác nhau của dữ liệu.\n",
    "\n",
    "**Ý nghĩa:**  \n",
    "- Phần chữ (`Women`, `Men`) thể hiện **giới tính** của nhóm khách hàng.  \n",
    "- Phần số (`25-34`, `18-24`) thể hiện **nhóm tuổi** (khoảng tuổi) của nhóm khách hàng.  \n",
    "\n",
    "**Kết luận:**  \n",
    "Để thuận tiện cho việc phân tích, lọc, và thống kê theo từng đặc tính riêng, cần tách `Target_Audience` thành hai cột:  \n",
    "- `Gender`: chứa thông tin giới tính.  \n",
    "- `Age_Group`: chứa thông tin nhóm tuổi.\n"
   ]
  },
  {
   "cell_type": "code",
   "execution_count": 8,
   "id": "ea6882f4-1762-45be-9c4e-5584c0edb2cd",
   "metadata": {},
   "outputs": [],
   "source": [
    "data[['Gender', 'Age_Group']] = data['Target_Audience'].str.split(' ', n=1, expand=True)"
   ]
  },
  {
   "cell_type": "markdown",
   "id": "a16b7fe7-3029-45b3-a67f-d3cae17d1d66",
   "metadata": {},
   "source": [
    "Các cột có kiểu dữ liệu là `object` cần chuyển sang `string`."
   ]
  },
  {
   "cell_type": "code",
   "execution_count": 9,
   "id": "5d4ea578-7eaf-412a-9254-30772803a5f0",
   "metadata": {},
   "outputs": [],
   "source": [
    "# Chuyển toàn bộ cột object sang string dtype\n",
    "obj_cols = data.select_dtypes(include='object').columns\n",
    "data[obj_cols] = data[obj_cols].astype('string')"
   ]
  },
  {
   "cell_type": "code",
   "execution_count": 10,
   "id": "8fdd51c7-4665-431c-83f0-80e3f7b4d55b",
   "metadata": {},
   "outputs": [
    {
     "name": "stdout",
     "output_type": "stream",
     "text": [
      "Dữ liệu sau chuyển đổi\n"
     ]
    },
    {
     "data": {
      "text/html": [
       "<div>\n",
       "<style scoped>\n",
       "    .dataframe tbody tr th:only-of-type {\n",
       "        vertical-align: middle;\n",
       "    }\n",
       "\n",
       "    .dataframe tbody tr th {\n",
       "        vertical-align: top;\n",
       "    }\n",
       "\n",
       "    .dataframe thead th {\n",
       "        text-align: right;\n",
       "    }\n",
       "</style>\n",
       "<table border=\"1\" class=\"dataframe\">\n",
       "  <thead>\n",
       "    <tr style=\"text-align: right;\">\n",
       "      <th></th>\n",
       "      <th>Data Type</th>\n",
       "    </tr>\n",
       "  </thead>\n",
       "  <tbody>\n",
       "    <tr>\n",
       "      <th>Campaign_ID</th>\n",
       "      <td>int64</td>\n",
       "    </tr>\n",
       "    <tr>\n",
       "      <th>Target_Audience</th>\n",
       "      <td>string</td>\n",
       "    </tr>\n",
       "    <tr>\n",
       "      <th>Campaign_Goal</th>\n",
       "      <td>string</td>\n",
       "    </tr>\n",
       "    <tr>\n",
       "      <th>Duration</th>\n",
       "      <td>string</td>\n",
       "    </tr>\n",
       "    <tr>\n",
       "      <th>Channel_Used</th>\n",
       "      <td>string</td>\n",
       "    </tr>\n",
       "    <tr>\n",
       "      <th>Conversion_Rate</th>\n",
       "      <td>float64</td>\n",
       "    </tr>\n",
       "    <tr>\n",
       "      <th>Spend</th>\n",
       "      <td>float64</td>\n",
       "    </tr>\n",
       "    <tr>\n",
       "      <th>ROI</th>\n",
       "      <td>float64</td>\n",
       "    </tr>\n",
       "    <tr>\n",
       "      <th>Location</th>\n",
       "      <td>string</td>\n",
       "    </tr>\n",
       "    <tr>\n",
       "      <th>Language</th>\n",
       "      <td>string</td>\n",
       "    </tr>\n",
       "    <tr>\n",
       "      <th>Clicks</th>\n",
       "      <td>int64</td>\n",
       "    </tr>\n",
       "    <tr>\n",
       "      <th>Impressions</th>\n",
       "      <td>int64</td>\n",
       "    </tr>\n",
       "    <tr>\n",
       "      <th>Customer_Segment</th>\n",
       "      <td>string</td>\n",
       "    </tr>\n",
       "    <tr>\n",
       "      <th>Date</th>\n",
       "      <td>datetime64[ns]</td>\n",
       "    </tr>\n",
       "    <tr>\n",
       "      <th>Company</th>\n",
       "      <td>string</td>\n",
       "    </tr>\n",
       "    <tr>\n",
       "      <th>Gender</th>\n",
       "      <td>string</td>\n",
       "    </tr>\n",
       "    <tr>\n",
       "      <th>Age_Group</th>\n",
       "      <td>string</td>\n",
       "    </tr>\n",
       "  </tbody>\n",
       "</table>\n",
       "</div>"
      ],
      "text/plain": [
       "                       Data Type\n",
       "Campaign_ID                int64\n",
       "Target_Audience           string\n",
       "Campaign_Goal             string\n",
       "Duration                  string\n",
       "Channel_Used              string\n",
       "Conversion_Rate          float64\n",
       "Spend                    float64\n",
       "ROI                      float64\n",
       "Location                  string\n",
       "Language                  string\n",
       "Clicks                     int64\n",
       "Impressions                int64\n",
       "Customer_Segment          string\n",
       "Date              datetime64[ns]\n",
       "Company                   string\n",
       "Gender                    string\n",
       "Age_Group                 string"
      ]
     },
     "execution_count": 10,
     "metadata": {},
     "output_type": "execute_result"
    }
   ],
   "source": [
    "print(\"Dữ liệu sau chuyển đổi\")\n",
    "df_types(data)"
   ]
  },
  {
   "cell_type": "markdown",
   "id": "3fc13ff5",
   "metadata": {},
   "source": [
    "### Dữ liệu có trùng lặp không"
   ]
  },
  {
   "cell_type": "code",
   "execution_count": 11,
   "id": "0ef49088",
   "metadata": {},
   "outputs": [
    {
     "name": "stdout",
     "output_type": "stream",
     "text": [
      "Dữ liệu không có trùng lặp\n"
     ]
    }
   ],
   "source": [
    "if data.duplicated().any():\n",
    "    print(\"Dữ liệu có trùng lặp\")\n",
    "else:\n",
    "    print(\"Dữ liệu không có trùng lặp\")"
   ]
  },
  {
   "cell_type": "markdown",
   "id": "cf7c5f24",
   "metadata": {},
   "source": [
    "### Với mỗi cột có kiểu dữ liệu được phân bố như thế nào?"
   ]
  },
  {
   "cell_type": "markdown",
   "id": "26b56f55",
   "metadata": {},
   "source": [
    "#### Đối với cột dữ liệu dạng số"
   ]
  },
  {
   "cell_type": "code",
   "execution_count": 12,
   "id": "23d6f137",
   "metadata": {},
   "outputs": [],
   "source": [
    "def col_info(col, array):\n",
    "    temp = np.array(array[col])\n",
    "    temp = temp[np.invert(np.isnan(temp))]\n",
    "    data = []\n",
    "    # min\n",
    "    data.append(np.min(temp))\n",
    "    # 3 quartile\n",
    "    for i in range(25, 100, 25):\n",
    "        data.append(np.percentile(temp, i, interpolation='linear'))\n",
    "    # max\n",
    "    data.append(np.max(temp))\n",
    "    return data"
   ]
  },
  {
   "cell_type": "code",
   "execution_count": 13,
   "id": "fa121f2f",
   "metadata": {},
   "outputs": [
    {
     "data": {
      "text/html": [
       "<div>\n",
       "<style scoped>\n",
       "    .dataframe tbody tr th:only-of-type {\n",
       "        vertical-align: middle;\n",
       "    }\n",
       "\n",
       "    .dataframe tbody tr th {\n",
       "        vertical-align: top;\n",
       "    }\n",
       "\n",
       "    .dataframe thead th {\n",
       "        text-align: right;\n",
       "    }\n",
       "</style>\n",
       "<table border=\"1\" class=\"dataframe\">\n",
       "  <thead>\n",
       "    <tr style=\"text-align: right;\">\n",
       "      <th></th>\n",
       "      <th>Campaign_ID</th>\n",
       "      <th>Conversion_Rate</th>\n",
       "      <th>Spend</th>\n",
       "      <th>ROI</th>\n",
       "      <th>Clicks</th>\n",
       "      <th>Impressions</th>\n",
       "    </tr>\n",
       "  </thead>\n",
       "  <tbody>\n",
       "    <tr>\n",
       "      <th>min</th>\n",
       "      <td>100095.0</td>\n",
       "      <td>0.01</td>\n",
       "      <td>500.000</td>\n",
       "      <td>0.00</td>\n",
       "      <td>301.0</td>\n",
       "      <td>1962.0</td>\n",
       "    </tr>\n",
       "    <tr>\n",
       "      <th>lower_quartile</th>\n",
       "      <td>327171.5</td>\n",
       "      <td>0.05</td>\n",
       "      <td>4064.465</td>\n",
       "      <td>0.92</td>\n",
       "      <td>8905.0</td>\n",
       "      <td>28645.5</td>\n",
       "    </tr>\n",
       "    <tr>\n",
       "      <th>median</th>\n",
       "      <td>550201.0</td>\n",
       "      <td>0.08</td>\n",
       "      <td>7754.940</td>\n",
       "      <td>2.69</td>\n",
       "      <td>17105.0</td>\n",
       "      <td>54079.0</td>\n",
       "    </tr>\n",
       "    <tr>\n",
       "      <th>upper_quartile</th>\n",
       "      <td>777400.5</td>\n",
       "      <td>0.11</td>\n",
       "      <td>11406.375</td>\n",
       "      <td>5.27</td>\n",
       "      <td>26820.5</td>\n",
       "      <td>80962.5</td>\n",
       "    </tr>\n",
       "    <tr>\n",
       "      <th>max</th>\n",
       "      <td>999998.0</td>\n",
       "      <td>0.15</td>\n",
       "      <td>15000.000</td>\n",
       "      <td>8.00</td>\n",
       "      <td>39995.0</td>\n",
       "      <td>119985.0</td>\n",
       "    </tr>\n",
       "  </tbody>\n",
       "</table>\n",
       "</div>"
      ],
      "text/plain": [
       "                Campaign_ID  Conversion_Rate      Spend   ROI   Clicks  \\\n",
       "min                100095.0             0.01    500.000  0.00    301.0   \n",
       "lower_quartile     327171.5             0.05   4064.465  0.92   8905.0   \n",
       "median             550201.0             0.08   7754.940  2.69  17105.0   \n",
       "upper_quartile     777400.5             0.11  11406.375  5.27  26820.5   \n",
       "max                999998.0             0.15  15000.000  8.00  39995.0   \n",
       "\n",
       "                Impressions  \n",
       "min                  1962.0  \n",
       "lower_quartile      28645.5  \n",
       "median              54079.0  \n",
       "upper_quartile      80962.5  \n",
       "max                119985.0  "
      ]
     },
     "execution_count": 13,
     "metadata": {},
     "output_type": "execute_result"
    }
   ],
   "source": [
    "num_col_info_df = pd.DataFrame(index = ['min', 'lower_quartile', 'median', 'upper_quartile', 'max'])\n",
    "for i in data._get_numeric_data():\n",
    "    num_col_info_df[i] = col_info(i, data)\n",
    "num_col_info_df"
   ]
  },
  {
   "cell_type": "markdown",
   "id": "190c37e4",
   "metadata": {},
   "source": [
    "Ta vẽ biểu đồ `Boxplot` và `Violinplot` để thể hiện sự phân bố dữ liệu với các cột dạng số."
   ]
  },
  {
   "cell_type": "code",
   "execution_count": 14,
   "id": "1453a2c3",
   "metadata": {},
   "outputs": [
    {
     "data": {
      "image/png": "[encoded data removed]",
      "text/plain": [
       "<Figure size 1800x1000 with 6 Axes>"
      ]
     },
     "metadata": {},
     "output_type": "display_data"
    }
   ],
   "source": [
    "fig, axs = plt.subplots(2, 3, figsize=(18, 10))\n",
    "axs = axs.flatten()\n",
    "for i, col in enumerate(data._get_numeric_data().columns):\n",
    "    sns.boxplot(data = data, y = data[col], ax = axs[i])\n",
    "    axs[i].set_title(col)\n",
    "plt.show()"
   ]
  },
  {
   "cell_type": "code",
   "execution_count": 15,
   "id": "c9433d2b",
   "metadata": {},
   "outputs": [
    {
     "data": {
      "image/png": "[encoded data removed]",
      "text/plain": [
       "<Figure size 1800x1000 with 6 Axes>"
      ]
     },
     "metadata": {},
     "output_type": "display_data"
    }
   ],
   "source": [
    "fig, axs = plt.subplots(2, 3, figsize=(18, 10))\n",
    "axs = axs.flatten()\n",
    "for i, col in enumerate(data._get_numeric_data().columns):\n",
    "    sns.violinplot(y = col, data = data, ax=axs[i], orient='h')\n",
    "    axs[i].set_title(col)\n",
    "plt.show()"
   ]
  },
  {
   "cell_type": "markdown",
   "id": "dc6a0578",
   "metadata": {},
   "source": [
    "**Nhận xét:**\n",
    "- Các giá trị ngày tháng phân bố đều trên các khoảng.\n",
    "- Các giá trị liên quan đến việc bán vé và doanh thu phân bố tập trung ở mức thấp, và có rất nhiều giá trị ngoại lai.\n",
    "- tickets_out hầu như đều có giá trị 0.\n",
    "- ticket_price đa số đều có giá trị 80000"
   ]
  },
  {
   "cell_type": "markdown",
   "id": "183239d6",
   "metadata": {},
   "source": [
    "#### Đối với các cột kiểu categorical"
   ]
  },
  {
   "cell_type": "code",
   "execution_count": 16,
   "id": "9e7edf31",
   "metadata": {},
   "outputs": [],
   "source": [
    "def col_info(col, array):\n",
    "    temp = pd.DataFrame(array[col])\n",
    "    temp = temp.dropna()\n",
    "    temp = np.array(temp[col])\n",
    "    data = []\n",
    "    # num_values\n",
    "    temp = np.unique(temp, return_counts=True)\n",
    "    data.append(len(temp[0]))\n",
    "    # value\n",
    "    temp = pd.Series(data = temp[1], index = temp[0])\n",
    "    data.append(temp)\n",
    "    # num_values\n",
    "    return data"
   ]
  },
  {
   "cell_type": "code",
   "execution_count": 17,
   "id": "06778874",
   "metadata": {},
   "outputs": [
    {
     "data": {
      "text/html": [
       "<div>\n",
       "<style scoped>\n",
       "    .dataframe tbody tr th:only-of-type {\n",
       "        vertical-align: middle;\n",
       "    }\n",
       "\n",
       "    .dataframe tbody tr th {\n",
       "        vertical-align: top;\n",
       "    }\n",
       "\n",
       "    .dataframe thead th {\n",
       "        text-align: right;\n",
       "    }\n",
       "</style>\n",
       "<table border=\"1\" class=\"dataframe\">\n",
       "  <thead>\n",
       "    <tr style=\"text-align: right;\">\n",
       "      <th></th>\n",
       "      <th>Target_Audience</th>\n",
       "      <th>Campaign_Goal</th>\n",
       "      <th>Duration</th>\n",
       "      <th>Channel_Used</th>\n",
       "      <th>Location</th>\n",
       "      <th>Language</th>\n",
       "      <th>Customer_Segment</th>\n",
       "      <th>Company</th>\n",
       "      <th>Gender</th>\n",
       "      <th>Age_Group</th>\n",
       "    </tr>\n",
       "  </thead>\n",
       "  <tbody>\n",
       "    <tr>\n",
       "      <th>num_values</th>\n",
       "      <td>6</td>\n",
       "      <td>4</td>\n",
       "      <td>4</td>\n",
       "      <td>4</td>\n",
       "      <td>5</td>\n",
       "      <td>3</td>\n",
       "      <td>2</td>\n",
       "      <td>20</td>\n",
       "      <td>2</td>\n",
       "      <td>3</td>\n",
       "    </tr>\n",
       "    <tr>\n",
       "      <th>value</th>\n",
       "      <td>Men 18-24      1377\n",
       "Men 25-34      1377\n",
       "Men 35-44      1358\n",
       "Women 18-24    1307\n",
       "Women 25-34    1328\n",
       "Women 35-44    1300\n",
       "dtype: int64</td>\n",
       "      <td>Brand Awareness     1983\n",
       "Increase Sales      2022\n",
       "Market Expansion    1953\n",
       "Product Launch      2089\n",
       "dtype: int64</td>\n",
       "      <td>15 Days    2042\n",
       "30 Days    1982\n",
       "45 Days    1998\n",
       "60 Days    2025\n",
       "dtype: int64</td>\n",
       "      <td>Facebook     1968\n",
       "Instagram    2018\n",
       "Pinterest    2020\n",
       "Twitter      2041\n",
       "dtype: int64</td>\n",
       "      <td>Austin         1593\n",
       "Las Vegas      1653\n",
       "Los Angeles    1677\n",
       "Miami          1552\n",
       "New York       1572\n",
       "dtype: int64</td>\n",
       "      <td>English    2699\n",
       "French     2682\n",
       "Spanish    2666\n",
       "dtype: int64</td>\n",
       "      <td>Fashion    4032\n",
       "Food       4015\n",
       "dtype: int64</td>\n",
       "      <td>Attire Artistry     389\n",
       "Bistro Bliss        387\n",
       "Chic Couture        403\n",
       "Culinary Quest      393\n",
       "Dine Divine         403\n",
       "Epicurean Edge      393\n",
       "Feast Flavors       419\n",
       "Fiber Fashion       408\n",
       "Gastronomy Guild    411\n",
       "Glam Garments       393\n",
       "Gourmet Grove       374\n",
       "Mode Maven          403\n",
       "Nosh Nirvana        430\n",
       "Palate Paradise     400\n",
       "Runway Rebels       386\n",
       "Savor Street        405\n",
       "Silk &amp; Style        409\n",
       "Style Sphere        398\n",
       "Trend Tailors       416\n",
       "Vogue Visions       427\n",
       "dtype: int64</td>\n",
       "      <td>Men      4112\n",
       "Women    3935\n",
       "dtype: int64</td>\n",
       "      <td>18-24    2684\n",
       "25-34    2705\n",
       "35-44    2658\n",
       "dtype: int64</td>\n",
       "    </tr>\n",
       "  </tbody>\n",
       "</table>\n",
       "</div>"
      ],
      "text/plain": [
       "                                                                                                                                 Target_Audience  \\\n",
       "num_values                                                                                                                                     6   \n",
       "value       Men 18-24      1377\n",
       "Men 25-34      1377\n",
       "Men 35-44      1358\n",
       "Women 18-24    1307\n",
       "Women 25-34    1328\n",
       "Women 35-44    1300\n",
       "dtype: int64   \n",
       "\n",
       "                                                                                                               Campaign_Goal  \\\n",
       "num_values                                                                                                                 4   \n",
       "value       Brand Awareness     1983\n",
       "Increase Sales      2022\n",
       "Market Expansion    1953\n",
       "Product Launch      2089\n",
       "dtype: int64   \n",
       "\n",
       "                                                                                Duration  \\\n",
       "num_values                                                                             4   \n",
       "value       15 Days    2042\n",
       "30 Days    1982\n",
       "45 Days    1998\n",
       "60 Days    2025\n",
       "dtype: int64   \n",
       "\n",
       "                                                                                    Channel_Used  \\\n",
       "num_values                                                                                     4   \n",
       "value       Facebook     1968\n",
       "Instagram    2018\n",
       "Pinterest    2020\n",
       "Twitter      2041\n",
       "dtype: int64   \n",
       "\n",
       "                                                                                                                    Location  \\\n",
       "num_values                                                                                                                 5   \n",
       "value       Austin         1593\n",
       "Las Vegas      1653\n",
       "Los Angeles    1677\n",
       "Miami          1552\n",
       "New York       1572\n",
       "dtype: int64   \n",
       "\n",
       "                                                                Language  \\\n",
       "num_values                                                             3   \n",
       "value       English    2699\n",
       "French     2682\n",
       "Spanish    2666\n",
       "dtype: int64   \n",
       "\n",
       "                                        Customer_Segment  \\\n",
       "num_values                                             2   \n",
       "value       Fashion    4032\n",
       "Food       4015\n",
       "dtype: int64   \n",
       "\n",
       "                                                                                                                                                                                                                                                                                                                                                                                                                                                                                                                 Company  \\\n",
       "num_values                                                                                                                                                                                                                                                                                                                                                                                                                                                                                                            20   \n",
       "value       Attire Artistry     389\n",
       "Bistro Bliss        387\n",
       "Chic Couture        403\n",
       "Culinary Quest      393\n",
       "Dine Divine         403\n",
       "Epicurean Edge      393\n",
       "Feast Flavors       419\n",
       "Fiber Fashion       408\n",
       "Gastronomy Guild    411\n",
       "Glam Garments       393\n",
       "Gourmet Grove       374\n",
       "Mode Maven          403\n",
       "Nosh Nirvana        430\n",
       "Palate Paradise     400\n",
       "Runway Rebels       386\n",
       "Savor Street        405\n",
       "Silk & Style        409\n",
       "Style Sphere        398\n",
       "Trend Tailors       416\n",
       "Vogue Visions       427\n",
       "dtype: int64   \n",
       "\n",
       "                                              Gender  \\\n",
       "num_values                                         2   \n",
       "value       Men      4112\n",
       "Women    3935\n",
       "dtype: int64   \n",
       "\n",
       "                                                         Age_Group  \n",
       "num_values                                                       3  \n",
       "value       18-24    2684\n",
       "25-34    2705\n",
       "35-44    2658\n",
       "dtype: int64  "
      ]
     },
     "execution_count": 17,
     "metadata": {},
     "output_type": "execute_result"
    }
   ],
   "source": [
    "cat_col_info_df = pd.DataFrame(index = ['num_values', 'value'])\n",
    "for i in data.select_dtypes(include=['string']):\n",
    "    cat_col_info_df[i] = col_info(i, data)\n",
    "\n",
    "cat_col_info_df"
   ]
  },
  {
   "cell_type": "markdown",
   "id": "f90980ac",
   "metadata": {},
   "source": [
    "Ta vẽ biểu đồ cột để trực quan sự phân bố các giá trị `categorical`."
   ]
  },
  {
   "cell_type": "code",
   "execution_count": 18,
   "id": "bc1fc0e9",
   "metadata": {},
   "outputs": [
    {
     "ename": "ValueError",
     "evalue": "Number of rows must be a positive integer, not 0",
     "output_type": "error",
     "traceback": [
      "\u001b[31m---------------------------------------------------------------------------\u001b[39m",
      "\u001b[31mValueError\u001b[39m                                Traceback (most recent call last)",
      "\u001b[36mCell\u001b[39m\u001b[36m \u001b[39m\u001b[32mIn[18]\u001b[39m\u001b[32m, line 11\u001b[39m\n\u001b[32m      8\u001b[39m n_cols = \u001b[32m1\u001b[39m  \u001b[38;5;66;03m# Số cột cố định\u001b[39;00m\n\u001b[32m      9\u001b[39m n_rows = -(-\u001b[38;5;28mlen\u001b[39m(object_cols) // n_cols)  \u001b[38;5;66;03m# Tính số hàng, làm tròn lên\u001b[39;00m\n\u001b[32m---> \u001b[39m\u001b[32m11\u001b[39m fig, axs = \u001b[43mplt\u001b[49m\u001b[43m.\u001b[49m\u001b[43msubplots\u001b[49m\u001b[43m(\u001b[49m\u001b[43mn_rows\u001b[49m\u001b[43m,\u001b[49m\u001b[43m \u001b[49m\u001b[43mn_cols\u001b[49m\u001b[43m,\u001b[49m\u001b[43m \u001b[49m\u001b[43mfigsize\u001b[49m\u001b[43m=\u001b[49m\u001b[43m(\u001b[49m\u001b[32;43m20\u001b[39;49m\u001b[43m,\u001b[49m\u001b[43m \u001b[49m\u001b[32;43m5\u001b[39;49m\u001b[43m \u001b[49m\u001b[43m*\u001b[49m\u001b[43m \u001b[49m\u001b[43mn_rows\u001b[49m\u001b[43m)\u001b[49m\u001b[43m)\u001b[49m  \u001b[38;5;66;03m# Điều chỉnh chiều cao theo số hàng\u001b[39;00m\n\u001b[32m     12\u001b[39m axs = axs.flatten()  \u001b[38;5;66;03m# Chuyển thành danh sách 1D để dễ truy cập\u001b[39;00m\n\u001b[32m     14\u001b[39m \u001b[38;5;28;01mfor\u001b[39;00m i, col \u001b[38;5;129;01min\u001b[39;00m \u001b[38;5;28menumerate\u001b[39m(object_cols):\n",
      "\u001b[36mFile \u001b[39m\u001b[32m~/miniconda3/lib/python3.13/site-packages/matplotlib/pyplot.py:1778\u001b[39m, in \u001b[36msubplots\u001b[39m\u001b[34m(nrows, ncols, sharex, sharey, squeeze, width_ratios, height_ratios, subplot_kw, gridspec_kw, **fig_kw)\u001b[39m\n\u001b[32m   1633\u001b[39m \u001b[38;5;250m\u001b[39m\u001b[33;03m\"\"\"\u001b[39;00m\n\u001b[32m   1634\u001b[39m \u001b[33;03mCreate a figure and a set of subplots.\u001b[39;00m\n\u001b[32m   1635\u001b[39m \n\u001b[32m   (...)\u001b[39m\u001b[32m   1775\u001b[39m \n\u001b[32m   1776\u001b[39m \u001b[33;03m\"\"\"\u001b[39;00m\n\u001b[32m   1777\u001b[39m fig = figure(**fig_kw)\n\u001b[32m-> \u001b[39m\u001b[32m1778\u001b[39m axs = \u001b[43mfig\u001b[49m\u001b[43m.\u001b[49m\u001b[43msubplots\u001b[49m\u001b[43m(\u001b[49m\u001b[43mnrows\u001b[49m\u001b[43m=\u001b[49m\u001b[43mnrows\u001b[49m\u001b[43m,\u001b[49m\u001b[43m \u001b[49m\u001b[43mncols\u001b[49m\u001b[43m=\u001b[49m\u001b[43mncols\u001b[49m\u001b[43m,\u001b[49m\u001b[43m \u001b[49m\u001b[43msharex\u001b[49m\u001b[43m=\u001b[49m\u001b[43msharex\u001b[49m\u001b[43m,\u001b[49m\u001b[43m \u001b[49m\u001b[43msharey\u001b[49m\u001b[43m=\u001b[49m\u001b[43msharey\u001b[49m\u001b[43m,\u001b[49m\n\u001b[32m   1779\u001b[39m \u001b[43m                   \u001b[49m\u001b[43msqueeze\u001b[49m\u001b[43m=\u001b[49m\u001b[43msqueeze\u001b[49m\u001b[43m,\u001b[49m\u001b[43m \u001b[49m\u001b[43msubplot_kw\u001b[49m\u001b[43m=\u001b[49m\u001b[43msubplot_kw\u001b[49m\u001b[43m,\u001b[49m\n\u001b[32m   1780\u001b[39m \u001b[43m                   \u001b[49m\u001b[43mgridspec_kw\u001b[49m\u001b[43m=\u001b[49m\u001b[43mgridspec_kw\u001b[49m\u001b[43m,\u001b[49m\u001b[43m \u001b[49m\u001b[43mheight_ratios\u001b[49m\u001b[43m=\u001b[49m\u001b[43mheight_ratios\u001b[49m\u001b[43m,\u001b[49m\n\u001b[32m   1781\u001b[39m \u001b[43m                   \u001b[49m\u001b[43mwidth_ratios\u001b[49m\u001b[43m=\u001b[49m\u001b[43mwidth_ratios\u001b[49m\u001b[43m)\u001b[49m\n\u001b[32m   1782\u001b[39m \u001b[38;5;28;01mreturn\u001b[39;00m fig, axs\n",
      "\u001b[36mFile \u001b[39m\u001b[32m~/miniconda3/lib/python3.13/site-packages/matplotlib/figure.py:918\u001b[39m, in \u001b[36mFigureBase.subplots\u001b[39m\u001b[34m(self, nrows, ncols, sharex, sharey, squeeze, width_ratios, height_ratios, subplot_kw, gridspec_kw)\u001b[39m\n\u001b[32m    914\u001b[39m         \u001b[38;5;28;01mraise\u001b[39;00m \u001b[38;5;167;01mValueError\u001b[39;00m(\u001b[33m\"\u001b[39m\u001b[33m'\u001b[39m\u001b[33mwidth_ratios\u001b[39m\u001b[33m'\u001b[39m\u001b[33m must not be defined both as \u001b[39m\u001b[33m\"\u001b[39m\n\u001b[32m    915\u001b[39m                          \u001b[33m\"\u001b[39m\u001b[33mparameter and as key in \u001b[39m\u001b[33m'\u001b[39m\u001b[33mgridspec_kw\u001b[39m\u001b[33m'\u001b[39m\u001b[33m\"\u001b[39m)\n\u001b[32m    916\u001b[39m     gridspec_kw[\u001b[33m'\u001b[39m\u001b[33mwidth_ratios\u001b[39m\u001b[33m'\u001b[39m] = width_ratios\n\u001b[32m--> \u001b[39m\u001b[32m918\u001b[39m gs = \u001b[38;5;28;43mself\u001b[39;49m\u001b[43m.\u001b[49m\u001b[43madd_gridspec\u001b[49m\u001b[43m(\u001b[49m\u001b[43mnrows\u001b[49m\u001b[43m,\u001b[49m\u001b[43m \u001b[49m\u001b[43mncols\u001b[49m\u001b[43m,\u001b[49m\u001b[43m \u001b[49m\u001b[43mfigure\u001b[49m\u001b[43m=\u001b[49m\u001b[38;5;28;43mself\u001b[39;49m\u001b[43m,\u001b[49m\u001b[43m \u001b[49m\u001b[43m*\u001b[49m\u001b[43m*\u001b[49m\u001b[43mgridspec_kw\u001b[49m\u001b[43m)\u001b[49m\n\u001b[32m    919\u001b[39m axs = gs.subplots(sharex=sharex, sharey=sharey, squeeze=squeeze,\n\u001b[32m    920\u001b[39m                   subplot_kw=subplot_kw)\n\u001b[32m    921\u001b[39m \u001b[38;5;28;01mreturn\u001b[39;00m axs\n",
      "\u001b[36mFile \u001b[39m\u001b[32m~/miniconda3/lib/python3.13/site-packages/matplotlib/figure.py:1600\u001b[39m, in \u001b[36mFigureBase.add_gridspec\u001b[39m\u001b[34m(self, nrows, ncols, **kwargs)\u001b[39m\n\u001b[32m   1557\u001b[39m \u001b[38;5;250m\u001b[39m\u001b[33;03m\"\"\"\u001b[39;00m\n\u001b[32m   1558\u001b[39m \u001b[33;03mLow-level API for creating a `.GridSpec` that has this figure as a parent.\u001b[39;00m\n\u001b[32m   1559\u001b[39m \n\u001b[32m   (...)\u001b[39m\u001b[32m   1596\u001b[39m \n\u001b[32m   1597\u001b[39m \u001b[33;03m\"\"\"\u001b[39;00m\n\u001b[32m   1599\u001b[39m _ = kwargs.pop(\u001b[33m'\u001b[39m\u001b[33mfigure\u001b[39m\u001b[33m'\u001b[39m, \u001b[38;5;28;01mNone\u001b[39;00m)  \u001b[38;5;66;03m# pop in case user has added this...\u001b[39;00m\n\u001b[32m-> \u001b[39m\u001b[32m1600\u001b[39m gs = \u001b[43mGridSpec\u001b[49m\u001b[43m(\u001b[49m\u001b[43mnrows\u001b[49m\u001b[43m=\u001b[49m\u001b[43mnrows\u001b[49m\u001b[43m,\u001b[49m\u001b[43m \u001b[49m\u001b[43mncols\u001b[49m\u001b[43m=\u001b[49m\u001b[43mncols\u001b[49m\u001b[43m,\u001b[49m\u001b[43m \u001b[49m\u001b[43mfigure\u001b[49m\u001b[43m=\u001b[49m\u001b[38;5;28;43mself\u001b[39;49m\u001b[43m,\u001b[49m\u001b[43m \u001b[49m\u001b[43m*\u001b[49m\u001b[43m*\u001b[49m\u001b[43mkwargs\u001b[49m\u001b[43m)\u001b[49m\n\u001b[32m   1601\u001b[39m \u001b[38;5;28;01mreturn\u001b[39;00m gs\n",
      "\u001b[36mFile \u001b[39m\u001b[32m~/miniconda3/lib/python3.13/site-packages/matplotlib/gridspec.py:363\u001b[39m, in \u001b[36mGridSpec.__init__\u001b[39m\u001b[34m(self, nrows, ncols, figure, left, bottom, right, top, wspace, hspace, width_ratios, height_ratios)\u001b[39m\n\u001b[32m    360\u001b[39m \u001b[38;5;28mself\u001b[39m.hspace = hspace\n\u001b[32m    361\u001b[39m \u001b[38;5;28mself\u001b[39m.figure = figure\n\u001b[32m--> \u001b[39m\u001b[32m363\u001b[39m \u001b[38;5;28;43msuper\u001b[39;49m\u001b[43m(\u001b[49m\u001b[43m)\u001b[49m\u001b[43m.\u001b[49m\u001b[34;43m__init__\u001b[39;49m\u001b[43m(\u001b[49m\u001b[43mnrows\u001b[49m\u001b[43m,\u001b[49m\u001b[43m \u001b[49m\u001b[43mncols\u001b[49m\u001b[43m,\u001b[49m\n\u001b[32m    364\u001b[39m \u001b[43m                 \u001b[49m\u001b[43mwidth_ratios\u001b[49m\u001b[43m=\u001b[49m\u001b[43mwidth_ratios\u001b[49m\u001b[43m,\u001b[49m\n\u001b[32m    365\u001b[39m \u001b[43m                 \u001b[49m\u001b[43mheight_ratios\u001b[49m\u001b[43m=\u001b[49m\u001b[43mheight_ratios\u001b[49m\u001b[43m)\u001b[49m\n",
      "\u001b[36mFile \u001b[39m\u001b[32m~/miniconda3/lib/python3.13/site-packages/matplotlib/gridspec.py:48\u001b[39m, in \u001b[36mGridSpecBase.__init__\u001b[39m\u001b[34m(self, nrows, ncols, height_ratios, width_ratios)\u001b[39m\n\u001b[32m     33\u001b[39m \u001b[38;5;250m\u001b[39m\u001b[33;03m\"\"\"\u001b[39;00m\n\u001b[32m     34\u001b[39m \u001b[33;03mParameters\u001b[39;00m\n\u001b[32m     35\u001b[39m \u001b[33;03m----------\u001b[39;00m\n\u001b[32m   (...)\u001b[39m\u001b[32m     45\u001b[39m \u001b[33;03m    If not given, all rows will have the same height.\u001b[39;00m\n\u001b[32m     46\u001b[39m \u001b[33;03m\"\"\"\u001b[39;00m\n\u001b[32m     47\u001b[39m \u001b[38;5;28;01mif\u001b[39;00m \u001b[38;5;129;01mnot\u001b[39;00m \u001b[38;5;28misinstance\u001b[39m(nrows, Integral) \u001b[38;5;129;01mor\u001b[39;00m nrows <= \u001b[32m0\u001b[39m:\n\u001b[32m---> \u001b[39m\u001b[32m48\u001b[39m     \u001b[38;5;28;01mraise\u001b[39;00m \u001b[38;5;167;01mValueError\u001b[39;00m(\n\u001b[32m     49\u001b[39m         \u001b[33mf\u001b[39m\u001b[33m\"\u001b[39m\u001b[33mNumber of rows must be a positive integer, not \u001b[39m\u001b[38;5;132;01m{\u001b[39;00mnrows\u001b[38;5;132;01m!r}\u001b[39;00m\u001b[33m\"\u001b[39m)\n\u001b[32m     50\u001b[39m \u001b[38;5;28;01mif\u001b[39;00m \u001b[38;5;129;01mnot\u001b[39;00m \u001b[38;5;28misinstance\u001b[39m(ncols, Integral) \u001b[38;5;129;01mor\u001b[39;00m ncols <= \u001b[32m0\u001b[39m:\n\u001b[32m     51\u001b[39m     \u001b[38;5;28;01mraise\u001b[39;00m \u001b[38;5;167;01mValueError\u001b[39;00m(\n\u001b[32m     52\u001b[39m         \u001b[33mf\u001b[39m\u001b[33m\"\u001b[39m\u001b[33mNumber of columns must be a positive integer, not \u001b[39m\u001b[38;5;132;01m{\u001b[39;00mncols\u001b[38;5;132;01m!r}\u001b[39;00m\u001b[33m\"\u001b[39m)\n",
      "\u001b[31mValueError\u001b[39m: Number of rows must be a positive integer, not 0"
     ]
    },
    {
     "data": {
      "text/plain": [
       "<Figure size 2000x0 with 0 Axes>"
      ]
     },
     "metadata": {},
     "output_type": "display_data"
    }
   ],
   "source": [
    "# Regex pattern để loại bỏ các cột có chứa các từ khóa cần loại bỏ\n",
    "pattern = re.compile(r'ID|Name|City|State|Country|Category', re.IGNORECASE)\n",
    "\n",
    "# Lọc các cột kiểu object nhưng không khớp với pattern\n",
    "object_cols = [col for col in data.select_dtypes(include=['object']).columns if not pattern.search(col)]\n",
    "\n",
    "# Xác định số hàng và số cột cho grid plot\n",
    "n_cols = 1  # Số cột cố định\n",
    "n_rows = -(-len(object_cols) // n_cols)  # Tính số hàng, làm tròn lên\n",
    "\n",
    "fig, axs = plt.subplots(n_rows, n_cols, figsize=(20, 5 * n_rows))  # Điều chỉnh chiều cao theo số hàng\n",
    "axs = axs.flatten()  # Chuyển thành danh sách 1D để dễ truy cập\n",
    "\n",
    "for i, col in enumerate(object_cols):\n",
    "    sns.countplot(data=data, y=col, ax=axs[i])\n",
    "    axs[i].set_title(f\"Distribution of {col}\", fontsize=20, fontweight=\"bold\")  # Tăng size chữ tiêu đề\n",
    "    axs[i].set_xlabel(\"\")\n",
    "    axs[i].set_ylabel(\"\")\n",
    "    axs[i].tick_params(axis='both', labelsize=16)  # Tăng size chữ các giá trị trên trục\n",
    "    axs[i].grid(True, axis='x', linestyle=\"--\", alpha=0.7)  # Thêm đường lưới dọc\n",
    "\n",
    "# Ẩn các subplot thừa (nếu có)\n",
    "for j in range(i + 1, len(axs)):\n",
    "    fig.delaxes(axs[j])\n",
    "\n",
    "plt.tight_layout()\n",
    "plt.subplots_adjust(hspace=0.5)  # Điều chỉnh khoảng cách giữa các hàng\n",
    "plt.show()\n"
   ]
  },
  {
   "cell_type": "markdown",
   "id": "a7ef9b63",
   "metadata": {},
   "source": [
    "**Nhận xét:**\n",
    "- Bộ dữ liệu có tổng cộng 48 phim khác nhau và được tổng hợp dữ liệu bán vè từ 246 rạp chiếu phim.\n",
    "- Không có tiêu chuẩn nào để nhận xét sự phân bố dữ liệu của 2 trường này.\n",
    "- Số lượng giá trị của mỗi trường hay tần suất của mỗi giá trị trong trường không tuân theo bất kỳ nguyên tắc nào, hơn nữa, đây đều là những giá trị mã hóa, không mang lại ý nghĩa gì.\n",
    "- Vậy nên chúng ta không cần quan tâm đến sự phân bố dữ liệu của 2 trường này."
   ]
  },
  {
   "cell_type": "markdown",
   "id": "8cb4815a",
   "metadata": {},
   "source": [
    "## 3. Khám phá dữ liệu - EDA"
   ]
  },
  {
   "cell_type": "code",
   "execution_count": null,
   "id": "96b83ee0",
   "metadata": {},
   "outputs": [],
   "source": []
  },
  {
   "cell_type": "markdown",
   "id": "120e9dd3",
   "metadata": {},
   "source": [
    "## 4. Câu Hỏi Phân Tích Chính"
   ]
  },
  {
   "cell_type": "markdown",
   "id": "360cc0b0",
   "metadata": {},
   "source": [
    "### Thời gian giao hàng trung bình là bao nhiêu, và khu vực nào có thời gian giao hàng chậm nhất?"
   ]
  },
  {
   "cell_type": "code",
   "execution_count": null,
   "id": "c08b8f1d",
   "metadata": {},
   "outputs": [],
   "source": [
    "# Lọc mỗi đơn hàng chỉ giữ lại 1 dòng\n",
    "filtered_data = data.drop_duplicates(subset=['Order ID'])\n",
    "# Chỉ lấy ra những dòng cần thiết\n",
    "filtered_data = filtered_data[['Order ID', 'City', 'State', 'Returned', 'Region', 'Days']]"
   ]
  },
  {
   "cell_type": "code",
   "execution_count": null,
   "id": "e7e18f24",
   "metadata": {},
   "outputs": [],
   "source": [
    "# Thời gian giao hàng trung bình là bao nhiêu?\n",
    "mean_delivery_day = filtered_data['Days'].mean()\n",
    "print(f\"Thời gian giao hàng trung bình là: {mean_delivery_day:.1f} ngày\")"
   ]
  },
  {
   "cell_type": "code",
   "execution_count": null,
   "id": "09425700",
   "metadata": {},
   "outputs": [],
   "source": [
    "# Khu vực nào có thời gian giao hàng chậm nhất?\n",
    "region_delivery = filtered_data.groupby(['Region'])['Days'].agg(['mean'])\n",
    "\n",
    "# Sắp xếp giảm dần theo thời gian giao hàng trung bình\n",
    "slowest = region_delivery.sort_values('mean', ascending=False).reset_index()\n",
    "\n",
    "# Vẽ biểu đồ cho slowest\n",
    "plt.figure(figsize=(7, 2))\n",
    "sns.barplot(x=slowest['mean'], y=slowest['Region'], palette=\"Reds_r\")\n",
    "\n",
    "plt.axvline(mean_delivery_day, color='black', linestyle='dashed', label=f'Avg: {mean_delivery_day:.1f}')\n",
    "plt.title(\"Thời gian giao hàng trung bình theo khu vực\")\n",
    "plt.xlabel(\"Số ngày giao hàng\")\n",
    "plt.ylabel(\"\")\n",
    "plt.legend()\n",
    "\n",
    "plt.show()"
   ]
  },
  {
   "cell_type": "markdown",
   "id": "9f8d2ed5",
   "metadata": {},
   "source": [
    "### 4.2. Thời gian giao hàng ảnh hưởng như thế nào đến lợi nhuận?"
   ]
  },
  {
   "cell_type": "code",
   "execution_count": null,
   "id": "8c3c2297",
   "metadata": {},
   "outputs": [],
   "source": []
  },
  {
   "cell_type": "markdown",
   "id": "a354213c",
   "metadata": {},
   "source": [
    "### 4.3. Khu vực nào có tỷ lệ hoàn trả cao nhất?"
   ]
  },
  {
   "cell_type": "code",
   "execution_count": null,
   "id": "9c78c4a5",
   "metadata": {
    "scrolled": true
   },
   "outputs": [],
   "source": [
    "# Đếm tổng số đơn hàng và số đơn bị hoàn trả theo Region\n",
    "region_orders = filtered_data.groupby('Region').size()\n",
    "region_returns = filtered_data[filtered_data['Returned'] == 'Yes'].groupby('Region').size()\n",
    "\n",
    "# Tính tỷ lệ hoàn trả\n",
    "return_rate = (region_returns / region_orders).fillna(0).reset_index(name='return_rate')\n",
    "\n",
    "# Sắp xếp dữ liệu theo tỷ lệ hoàn trả từ cao đến thấp\n",
    "return_rate = return_rate.sort_values(by='return_rate', ascending=False)\n",
    "\n",
    "plt.figure(figsize=(8, 4))\n",
    "sns.scatterplot(x='return_rate', y='Region', data=return_rate, color='red', s=100)\n",
    "plt.hlines(y=return_rate['Region'], xmin=0, xmax=return_rate['return_rate'], color='red')\n",
    "\n",
    "plt.title(\"Tỷ lệ hoàn trả theo khu vực\")\n",
    "plt.xlabel(\"Tỷ lệ hoàn trả (%)\")\n",
    "plt.xlim(0, return_rate['return_rate'].max() * 1.2)  # Căn chỉnh trục\n",
    "plt.gca().xaxis.set_major_formatter(mtick.PercentFormatter(1.0, decimals=0))  # Không hiển thị số thập phân\n",
    "\n",
    "plt.show()"
   ]
  },
  {
   "cell_type": "markdown",
   "id": "65b4701c",
   "metadata": {},
   "source": [
    "### 4.4. Sản phẩm nào có tỷ lệ hoàn trả cao nhất, và các nguyên nhân chính là gì?"
   ]
  },
  {
   "cell_type": "code",
   "execution_count": null,
   "id": "35a7656a",
   "metadata": {},
   "outputs": [],
   "source": [
    "def highest_returned_rate(m = 0):\n",
    "    # Nhóm dữ liệu theo 'Product Name' và tính số lượng đơn hàng cho mỗi sản phẩm\n",
    "    product_counts = data.groupby('Product Name')['Returned'].count()\n",
    "\n",
    "    # Lọc các sản phẩm có số lượng đơn hàng > m\n",
    "    products_above_m = product_counts[product_counts > m]\n",
    "\n",
    "    # Lấy dữ liệu chi tiết của các sản phẩm này\n",
    "    temp = data[data['Product Name'].isin(products_above_m.index)]\n",
    "\n",
    "    # Nhóm lại dữ liệu và tính tỷ lệ hoàn trả và số lượng đơn hàng cho các sản phẩm có số lượng đơn > m\n",
    "    product_return_rate = temp.groupby(['Product Name', 'Sub-Category', 'Category'])['Returned'].value_counts(normalize=True).unstack(fill_value=0)\n",
    "\n",
    "    # Tính tỷ lệ hoàn trả cho mỗi sản phẩm\n",
    "    product_return_rate['return_rate'] = product_return_rate['Yes']\n",
    "\n",
    "    # Đếm số lượng đơn hàng cho mỗi sản phẩm\n",
    "    product_return_rate['order_count'] = data.groupby(['Product Name', 'Sub-Category', 'Category'])['Returned'].count()\n",
    "\n",
    "    # Tính trung bình của cột 'Quantity' cho mỗi sản phẩm\n",
    "    product_return_rate['Avg_Quantity'] = data.groupby(['Product Name', 'Sub-Category', 'Category'])['Quantity'].mean()\n",
    "\n",
    "    # Đưa thông tin vào DataFrame mới để dễ đọc và sử dụng\n",
    "    product_return_rate_df = product_return_rate.reset_index()\n",
    "\n",
    "    # Chọn cột cần hiển thị\n",
    "    product_return_rate_df = product_return_rate_df[['Product Name', 'Sub-Category', 'Category', 'return_rate', 'order_count', 'Avg_Quantity']]\n",
    "    \n",
    "    # Đổi tỷ lệ hoàn trả thành phần trăm\n",
    "    product_return_rate_df['return_rate'] = product_return_rate_df['return_rate'] * 100\n",
    "\n",
    "    # Sắp xếp theo tỷ lệ hoàn trả từ cao đến thấp\n",
    "    product_return_rate_df_sorted = product_return_rate_df.sort_values(by='return_rate', ascending=False)\n",
    "\n",
    "    # Đổi cột index thành Rank\n",
    "    product_return_rate_df_sorted.reset_index(drop=True, inplace=True)\n",
    "    \n",
    "    # Nếu m = 0, lấy tất cả các sản phẩm có tỷ lệ hoàn trả cao nhất\n",
    "    if m == 0:\n",
    "        max_return_rate = product_return_rate_df_sorted['return_rate'].max()  # Lấy tỷ lệ hoàn trả cao nhất\n",
    "        product_return_rate_df_sorted = product_return_rate_df_sorted[product_return_rate_df_sorted['return_rate'] == max_return_rate]  # Lọc tất cả các sản phẩm có tỷ lệ hoàn trả cao nhất\n",
    "        return product_return_rate_df_sorted.head(10)\n",
    "    else:\n",
    "        return product_return_rate_df_sorted.head(5)\n",
    "    \n",
    "    # Hiển thị kết quả đã sắp xếp\n",
    "    "
   ]
  },
  {
   "cell_type": "code",
   "execution_count": null,
   "id": "e48a7287",
   "metadata": {},
   "outputs": [],
   "source": [
    "highest_returned_rate()"
   ]
  },
  {
   "cell_type": "code",
   "execution_count": null,
   "id": "250c7f87",
   "metadata": {},
   "outputs": [],
   "source": [
    "highest_returned_rate(10)"
   ]
  },
  {
   "cell_type": "markdown",
   "id": "60ac66c0",
   "metadata": {},
   "source": [
    "### 4.5. Xu hướng doanh thu và lợi nhuận theo thời gian (hàng năm, hàng quý, hàng tháng) như thế nào?"
   ]
  },
  {
   "cell_type": "code",
   "execution_count": null,
   "id": "37fd7876",
   "metadata": {},
   "outputs": [],
   "source": [
    "# Lọc dữ liệu chỉ giữ những dòng có 'Returned' là 'Not'\n",
    "filtered_data = data[data['Returned'] == 'Not']"
   ]
  },
  {
   "cell_type": "code",
   "execution_count": null,
   "id": "51f372be",
   "metadata": {},
   "outputs": [],
   "source": [
    "# Lấy ngày nhỏ nhất và ngày lớn nhất từ cột 'Ship Date'\n",
    "min_date = data['Order Date'].min()\n",
    "max_date = data['Order Date'].max()\n",
    "\n",
    "print(f\"Dữ liệu được lấy từ ngày {min_date.strftime('%d-%m-%Y')} tới ngày {max_date.strftime('%d-%m-%Y')}\")\n"
   ]
  },
  {
   "cell_type": "code",
   "execution_count": null,
   "id": "4bb7289a",
   "metadata": {},
   "outputs": [],
   "source": [
    "# Dictionary ánh xạ period với tên phân kỳ và định dạng thời gian\n",
    "period_dict = {\n",
    "    'M': {'name': 'tháng', 'freq': 'M', 'format': '%Y-%m'},\n",
    "    'Q': {'name': 'quý', 'freq': 'Q', 'format': '%Y-Q%q'},\n",
    "    'Y': {'name': 'năm', 'freq': 'Y', 'format': '%Y'}\n",
    "}\n",
    "\n",
    "def Revenue_by_Period(data, period='M'):\n",
    "\n",
    "    # Kiểm tra xem period có hợp lệ không\n",
    "    if period not in period_dict:\n",
    "        raise ValueError(\"Invalid period. Choose from 'M', 'Q', or 'Y'.\")\n",
    "    \n",
    "    # Lấy thông tin từ dictionary\n",
    "    period_info = period_dict[period]\n",
    "    period_name = period_info['name']\n",
    "    period_format = period_info['format']\n",
    "    \n",
    "    # Tính doanh thu theo period\n",
    "    period_revenue = data.groupby(data['Order Date'].dt.to_period(period_info['freq']))['Sales'].sum().reset_index()\n",
    "    period_revenue['Period'] = period_revenue['Order Date'].dt.strftime(period_format)\n",
    "\n",
    "    # Vẽ biểu đồ\n",
    "    plt.figure(figsize=(12, 6))\n",
    "    sns.lineplot(x='Period', y='Sales', data=period_revenue, marker='o', color='blue')\n",
    "    \n",
    "    # Cài đặt tiêu đề và nhãn\n",
    "    plt.title(f'Doanh thu theo {period_name}', fontsize=16)\n",
    "    plt.xlabel(f'{period_name}', fontsize=12)\n",
    "    plt.ylabel('Doanh thu', fontsize=12)\n",
    "    \n",
    "    # Chỉnh sửa trục x để chỉ hiển thị 3 tháng một lần (chỉ đối với 'M')\n",
    "    if period == 'M':\n",
    "        ticks = period_revenue['Period'][::3]\n",
    "        plt.xticks(ticks, rotation=45)\n",
    "    else:\n",
    "        plt.xticks(rotation=45)\n",
    "    \n",
    "    plt.tight_layout()\n",
    "    \n",
    "    # Hiển thị biểu đồ\n",
    "    plt.show()\n",
    "\n",
    "    # Trả về dữ liệu doanh thu theo period\n",
    "    return period_revenue\n",
    "\n",
    "# Sử dụng hàm:\n",
    "# Doanh thu theo tháng\n",
    "revenue_month = Revenue_by_Period(filtered_data, 'M')\n",
    "\n",
    "# Doanh thu theo quý\n",
    "revenue_quarter = Revenue_by_Period(filtered_data, 'Q')\n",
    "\n",
    "# Doanh thu theo năm\n",
    "revenue_year = Revenue_by_Period(filtered_data, 'Y')"
   ]
  },
  {
   "cell_type": "code",
   "execution_count": null,
   "id": "addc4fb9",
   "metadata": {},
   "outputs": [],
   "source": [
    "def avg_by_month():\n",
    "    # Thêm một cột 'Month' chỉ chứa tháng (không bao gồm năm)\n",
    "    filtered_data['Month'] = filtered_data['Order Date'].dt.strftime('%m')  # Chỉ lấy tháng\n",
    "\n",
    "    # Tính tổng doanh thu theo tháng\n",
    "    month_revenue = filtered_data.groupby('Month')['Sales'].sum().reset_index()\n",
    "\n",
    "    # Vẽ biểu đồ\n",
    "    plt.figure(figsize=(12, 6))\n",
    "    sns.lineplot(x='Month', y='Sales', data=month_revenue, marker='o', color='blue')\n",
    "\n",
    "    # Cài đặt tiêu đề và nhãn\n",
    "    plt.title('Doanh thu bình quân theo Tháng', fontsize=16)\n",
    "    plt.xlabel('Tháng', fontsize=12)\n",
    "    plt.ylabel('Doanh thu (VNĐ)', fontsize=12)\n",
    "\n",
    "    # Đảm bảo trục X chỉ hiển thị tháng 1-12\n",
    "    plt.xticks(ticks=[str(i).zfill(2) for i in range(1, 13)], labels=['Tháng ' + str(i) for i in range(1, 13)], rotation=45)\n",
    "\n",
    "    plt.tight_layout()\n",
    "\n",
    "    # Hiển thị biểu đồ\n",
    "    plt.show()\n",
    "    \n",
    "avg_by_month()"
   ]
  },
  {
   "cell_type": "markdown",
   "id": "095ebbce",
   "metadata": {},
   "source": [
    "### 4.6. 5 khu vực nào có doanh thu cao nhất và thấp nhất?"
   ]
  },
  {
   "cell_type": "markdown",
   "id": "c98f04d6",
   "metadata": {},
   "source": [
    "Do `Region` chỉ có 4 khu vực nên đoạn này sẽ dùng `State` để phân tích."
   ]
  },
  {
   "cell_type": "code",
   "execution_count": null,
   "id": "7b147428",
   "metadata": {},
   "outputs": [],
   "source": [
    "# Nhóm dữ liệu theo 'State' và tính tổng Sales\n",
    "state_sales = filtered_data.groupby('State')['Sales'].sum().reset_index()\n",
    "\n",
    "# Sắp xếp theo doanh thu giảm dần\n",
    "state_sales_sorted = state_sales.sort_values(by='Sales', ascending=False)\n",
    "\n",
    "# Lấy top 5 cao nhất và thấp nhất\n",
    "top_highest = state_sales_sorted.head(5)\n",
    "top_lowest = state_sales_sorted.tail(5)\n",
    "\n",
    "# Tạo figure với 2 biểu đồ ngang\n",
    "fig, axs = plt.subplots(1, 2, figsize=(10, 5))\n",
    "\n",
    "# Vẽ biểu đồ top 5 cao nhất\n",
    "sns.barplot(y=top_highest['State'], x=top_highest['Sales'] / 1000, palette=\"Blues_r\", ax=axs[0])\n",
    "axs[0].set_title(\"Top 5 Bang có Doanh Thu Cao Nhất\")\n",
    "axs[0].set_xlabel(\"Doanh thu (K)\")\n",
    "axs[0].set_ylabel(\"Bang (State)\")\n",
    "axs[0].set_xlim(0, top_highest['Sales'].max() / 1000 * 1.1)  # Giới hạn trục x riêng\n",
    "\n",
    "# Vẽ biểu đồ top 5 thấp nhất\n",
    "sns.barplot(y=top_lowest['State'], x=top_lowest['Sales'], palette=\"Reds_r\", ax=axs[1])\n",
    "axs[1].set_title(\"Top 5 Bang có Doanh Thu Thấp Nhất\")\n",
    "axs[1].set_xlabel(\"Doanh thu\")\n",
    "axs[1].set_ylabel(\"\")\n",
    "# axs[1].set_xlim(0, top_lowest['Sales'].max() * 1.1)  # Giới hạn trục x riêng\n",
    "\n",
    "# Căn chỉnh layout\n",
    "plt.tight_layout()\n",
    "plt.show()"
   ]
  },
  {
   "cell_type": "markdown",
   "id": "a4386a4f",
   "metadata": {},
   "source": [
    "### 4.7. Những sản phẩm nào có doanh số cao nhất và thấp nhất?"
   ]
  },
  {
   "cell_type": "code",
   "execution_count": null,
   "id": "9a0ea56b",
   "metadata": {},
   "outputs": [],
   "source": [
    "# Nhóm dữ liệu theo 'Product Name' và tính tổng Sales\n",
    "product_sales = filtered_data.groupby('Product Name')['Sales'].sum().reset_index()\n",
    "\n",
    "# Sắp xếp theo doanh thu giảm dần và lấy top 5 cao nhất & thấp nhất\n",
    "top_highest_products = product_sales.nlargest(5, 'Sales')\n",
    "top_lowest_products = product_sales.nsmallest(5, 'Sales')"
   ]
  },
  {
   "cell_type": "code",
   "execution_count": null,
   "id": "b2da83fc",
   "metadata": {},
   "outputs": [],
   "source": [
    "fig, axs = plt.subplots(1, 2, figsize=(10, 6))\n",
    "\n",
    "# Thêm cột rút gọn tên sản phẩm\n",
    "top_highest_products['Short Name'] = top_highest_products['Product Name'].str[:15] + '...'\n",
    "top_lowest_products['Short Name'] = top_lowest_products['Product Name'].str[:15] + '...'\n",
    "\n",
    "# Top 5 sản phẩm có doanh thu cao nhất\n",
    "sns.barplot(y=top_highest_products.sort_values(by='Sales', ascending=False)['Short Name'], \n",
    "            x=top_highest_products['Sales'] / 1000, palette=\"Blues_r\", ax=axs[0])\n",
    "axs[0].set_title(\"Top 5 Sản Phẩm Có Doanh Số Cao Nhất\")\n",
    "axs[0].set_xlabel(\"Doanh thu (K)\")\n",
    "axs[0].set_ylabel(\"\")\n",
    "\n",
    "# Top 5 sản phẩm có doanh thu thấp nhất\n",
    "sns.barplot(y=top_lowest_products.sort_values(by='Sales', ascending=False)['Short Name'], \n",
    "            x=top_lowest_products['Sales'], palette=\"Reds_r\", ax=axs[1])\n",
    "axs[1].set_title(\"Top 5 Sản Phẩm Có Doanh Số Thấp Nhất\")\n",
    "axs[1].set_xlabel(\"Doanh thu\")\n",
    "axs[1].set_ylabel(\"\")\n",
    "\n",
    "plt.tight_layout()\n",
    "plt.show()\n"
   ]
  },
  {
   "cell_type": "markdown",
   "id": "3aad6e7b",
   "metadata": {},
   "source": [
    "### 4.8. Phân khúc khách hàng nào đóng góp nhiều nhất vào tổng doanh thu?"
   ]
  },
  {
   "cell_type": "code",
   "execution_count": null,
   "id": "548260ba",
   "metadata": {},
   "outputs": [],
   "source": [
    "# Nhóm dữ liệu theo phân khúc khách hàng và tính tổng doanh thu\n",
    "segment_sales = filtered_data.groupby('Segment')['Sales'].sum().reset_index()\n",
    "\n",
    "# Sắp xếp theo doanh thu giảm dần để tìm phân khúc đóng góp nhiều nhất\n",
    "segment_sales = segment_sales.sort_values(by='Sales', ascending=False)"
   ]
  },
  {
   "cell_type": "code",
   "execution_count": null,
   "id": "a46a9183",
   "metadata": {},
   "outputs": [],
   "source": [
    "plt.figure(figsize=(8, 3))\n",
    "sns.barplot(x=segment_sales['Sales'] / 1000, y=segment_sales['Segment'], palette=\"Blues_r\")\n",
    "\n",
    "plt.title(\"Doanh thu theo phân khúc khách hàng\")\n",
    "plt.xlabel(\"Tổng doanh thu (K)\")\n",
    "plt.ylabel(\"Phân khúc khách hàng\")\n",
    "\n",
    "plt.show()"
   ]
  },
  {
   "cell_type": "markdown",
   "id": "59107dba",
   "metadata": {},
   "source": [
    "### 4.9. Tính mùa vụ ảnh hưởng đến doanh số như thế nào? Xác định các giai đoạn cao điểm và thấp điểm. "
   ]
  },
  {
   "cell_type": "code",
   "execution_count": null,
   "id": "f046cfda",
   "metadata": {},
   "outputs": [],
   "source": [
    "avg_by_month()"
   ]
  },
  {
   "cell_type": "markdown",
   "id": "05f1d9a8",
   "metadata": {},
   "source": [
    "### 4.10. Dự báo doanh thu của quý tiếp theo dựa trên dữ liệu hiện tại."
   ]
  },
  {
   "cell_type": "code",
   "execution_count": null,
   "id": "c0bc471e",
   "metadata": {},
   "outputs": [],
   "source": []
  }
 ],
 "metadata": {
  "kernelspec": {
   "display_name": "Python 3 (ipykernel)",
   "language": "python",
   "name": "python3"
  },
  "language_info": {
   "codemirror_mode": {
    "name": "ipython",
    "version": 3
   },
   "file_extension": ".py",
   "mimetype": "text/x-python",
   "name": "python",
   "nbconvert_exporter": "python",
   "pygments_lexer": "ipython3",
   "version": "3.13.2"
  }
 },
 "nbformat": 4,
 "nbformat_minor": 5
}
